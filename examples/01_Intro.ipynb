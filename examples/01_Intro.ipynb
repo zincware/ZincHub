{
 "cells": [
  {
   "cell_type": "code",
   "execution_count": 1,
   "metadata": {},
   "outputs": [],
   "source": [
    "from tempfile import TemporaryDirectory\n",
    "import os"
   ]
  },
  {
   "cell_type": "code",
   "execution_count": 2,
   "metadata": {
    "collapsed": false,
    "jupyter": {
     "outputs_hidden": false
    },
    "pycharm": {
     "name": "#%%\n"
    }
   },
   "outputs": [
    {
     "name": "stdout",
     "output_type": "stream",
     "text": [
      "/tmp/tmpsx1pj9hp\n"
     ]
    }
   ],
   "source": [
    "temp_dir = TemporaryDirectory()\n",
    "os.chdir(temp_dir.name)\n",
    "!pwd"
   ]
  },
  {
   "cell_type": "markdown",
   "metadata": {
    "pycharm": {
     "name": "#%% md\n"
    }
   },
   "source": [
    "# Use DataHub\n",
    "\n",
    "it is sufficient to pass the url to the `DataHub` class.\n",
    "This allows accessing all info provided."
   ]
  },
  {
   "cell_type": "code",
   "execution_count": 3,
   "metadata": {
    "collapsed": false,
    "jupyter": {
     "outputs_hidden": false
    },
    "pycharm": {
     "name": "#%%\n"
    }
   },
   "outputs": [
    {
     "name": "stdout",
     "output_type": "stream",
     "text": [
      "description: 'This is a Lammps Simulation for NaCl\n",
      "\n",
      "    '\n",
      "file:\n",
      "    compressed: NaCl_gk_i_q.zip\n",
      "    raw: NaCl_gk_i_q.lammpstraj\n",
      "simulation:\n",
      "    engine: null\n",
      "    temperature: 1400.0\n",
      "    time_step: 0.002\n",
      "\n"
     ]
    }
   ],
   "source": [
    "from zinchub import DataHub\n",
    "import yaml\n",
    "\n",
    "NaCl = DataHub(url=\"https://github.com/zincware/DataHub/tree/main/NaCl_gk_i_q\")\n",
    "\n",
    "# Use yaml for formatting\n",
    "print(yaml.dump(NaCl.info, indent=4))"
   ]
  },
  {
   "cell_type": "markdown",
   "metadata": {
    "pycharm": {
     "name": "#%% md\n"
    }
   },
   "source": [
    "## Download\n",
    "\n",
    "For downloading and extracting the file, one can use `DataHub.get_file` to unzip the content\n",
    "into the given path."
   ]
  },
  {
   "cell_type": "code",
   "execution_count": 4,
   "metadata": {
    "collapsed": false,
    "jupyter": {
     "outputs_hidden": false
    },
    "pycharm": {
     "name": "#%%\n"
    }
   },
   "outputs": [
    {
     "name": "stdout",
     "output_type": "stream",
     "text": [
      "ITEM: TIMESTEP\n",
      "\n",
      "0\n",
      "\n",
      "ITEM: NUMBER OF ATOMS\n",
      "\n",
      "1000\n",
      "\n",
      "ITEM: BOX BOUNDS pp pp pp\n",
      "\n",
      "0.0000000000000000e+00 3.2649999999999999e+01\n",
      "\n",
      "0.0000000000000000e+00 3.2649999999999999e+01\n",
      "\n",
      "0.0000000000000000e+00 3.2649999999999999e+01\n",
      "\n",
      "ITEM: ATOMS id type element x y z vx vy vz fx fy fz ix iy iz q\n",
      "\n",
      "1 1 Na 16.07 32 24.65 -11.4394 -8.76908 -5.70482 0.479046 -3.35736 -1.09552 0 0 0 1\n",
      "\n",
      "2 1 Na 25.53 2.9 16.35 -10.1192 -12.2812 -1.48014 1.44511 -1.02764 1.03422 0 0 0 1\n",
      "\n",
      "3 1 Na 6.55 0.64 17.68 6.70262 7.71029 12.7119 1.86706 7.55131 1.92502 0 0 0 1\n",
      "\n"
     ]
    }
   ],
   "source": [
    "NaCl.get_file(path=\"./\")\n",
    "\n",
    "with open(NaCl.file_raw, \"r\") as f:\n",
    "    for idx, line in enumerate(f.readlines()):\n",
    "        print(line)\n",
    "        if idx > 10:\n",
    "            break"
   ]
  },
  {
   "cell_type": "code",
   "execution_count": 5,
   "metadata": {
    "collapsed": false,
    "jupyter": {
     "outputs_hidden": false
    },
    "pycharm": {
     "name": "#%%\n"
    }
   },
   "outputs": [],
   "source": [
    "temp_dir.cleanup()"
   ]
  }
 ],
 "metadata": {
  "kernelspec": {
   "display_name": "Python 3 (ipykernel)",
   "language": "python",
   "name": "python3"
  },
  "language_info": {
   "codemirror_mode": {
    "name": "ipython",
    "version": 3
   },
   "file_extension": ".py",
   "mimetype": "text/x-python",
   "name": "python",
   "nbconvert_exporter": "python",
   "pygments_lexer": "ipython3",
   "version": "3.9.7"
  }
 },
 "nbformat": 4,
 "nbformat_minor": 4
}
